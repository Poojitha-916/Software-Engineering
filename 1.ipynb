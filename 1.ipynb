{
  "nbformat": 4,
  "nbformat_minor": 0,
  "metadata": {
    "colab": {
      "provenance": [],
      "authorship_tag": "ABX9TyPH+9qgtLi6H/1G6/pse9eA",
      "include_colab_link": true
    },
    "kernelspec": {
      "name": "python3",
      "display_name": "Python 3"
    },
    "language_info": {
      "name": "python"
    }
  },
  "cells": [
    {
      "cell_type": "markdown",
      "metadata": {
        "id": "view-in-github",
        "colab_type": "text"
      },
      "source": [
        "<a href=\"https://colab.research.google.com/github/Poojitha-916/Software-Engineering/blob/sftlab/1.ipynb\" target=\"_parent\"><img src=\"https://colab.research.google.com/assets/colab-badge.svg\" alt=\"Open In Colab\"/></a>"
      ]
    },
    {
      "cell_type": "code",
      "execution_count": 1,
      "metadata": {
        "id": "AEvGAZCAIHAf"
      },
      "outputs": [],
      "source": [
        "#Quadratic Formula: ax^2 + bx + c = 0\n",
        "import math\n",
        "\n",
        "# Hard-coded coefficients\n",
        "a = 1\n",
        "b = -3\n",
        "c = 2\n",
        "\n",
        "# Quadratic formula solution\n",
        "def solve_quadratic(a, b, c):\n",
        "    discriminant = b**2 - 4*a*c\n",
        "    if discriminant > 0:\n",
        "        root1 = (-b + math.sqrt(discriminant)) / (2*a)\n",
        "        root2 = (-b - math.sqrt(discriminant)) / (2*a)\n",
        "        return root1, root2\n",
        "    elif discriminant == 0:\n",
        "        root = -b / (2*a)\n",
        "        return root, None\n",
        "    else:\n",
        "        return None, None  # No real roots"
      ]
    },
    {
      "cell_type": "markdown",
      "source": [
        "hello everyone"
      ],
      "metadata": {
        "id": "dItnqFpoILXk"
      }
    }
  ]
}